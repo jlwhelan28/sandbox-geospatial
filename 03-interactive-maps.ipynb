{
 "cells": [
  {
   "cell_type": "code",
   "execution_count": null,
   "metadata": {},
   "outputs": [],
   "source": [
    "import folium\n",
    "from folium import Choropleth, Circle, Marker\n",
    "from folium.plugins import HeatMap, MarkerCluster\n",
    "import pandas as pd\n",
    "import geopandas as gpd"
   ]
  },
  {
   "attachments": {},
   "cell_type": "markdown",
   "metadata": {},
   "source": [
    "# Boston Crime"
   ]
  },
  {
   "cell_type": "code",
   "execution_count": null,
   "metadata": {},
   "outputs": [],
   "source": [
    "m_1 = folium.Map(location=[42.32,-71.0589], tiles='openstreetmap', zoom_start=10)\n",
    "m_1"
   ]
  },
  {
   "cell_type": "code",
   "execution_count": null,
   "metadata": {},
   "outputs": [],
   "source": [
    "# Load the data\n",
    "crimes = pd.read_csv(\"data/crimes-in-boston/crimes-in-boston/crime.csv\", encoding='latin-1')\n",
    "\n",
    "# Drop rows with missing locations\n",
    "crimes.dropna(subset=['Lat', 'Long', 'DISTRICT'], inplace=True)\n",
    "\n",
    "# Focus on major crimes in 2018\n",
    "crimes = crimes[crimes.OFFENSE_CODE_GROUP.isin([\n",
    "    'Larceny', 'Auto Theft', 'Robbery', 'Larceny From Motor Vehicle', 'Residential Burglary',\n",
    "    'Simple Assault', 'Harassment', 'Ballistics', 'Aggravated Assault', 'Other Burglary', \n",
    "    'Arson', 'Commercial Burglary', 'HOME INVASION', 'Homicide', 'Criminal Harassment', \n",
    "    'Manslaughter'])]\n",
    "crimes = crimes[crimes.YEAR>=2018]\n",
    "\n",
    "# Print the first five rows of the table\n",
    "crimes.head()\n"
   ]
  },
  {
   "cell_type": "code",
   "execution_count": null,
   "metadata": {},
   "outputs": [],
   "source": [
    "roberies = crimes.query(\"OFFENSE_CODE_GROUP == 'Robbery'\")\n",
    "roberies.head()"
   ]
  },
  {
   "cell_type": "code",
   "execution_count": null,
   "metadata": {},
   "outputs": [],
   "source": [
    "fmap = folium.Map(location=[42.32,-71.0589], tiles='cartodbpositron', zoom_start=13)\n",
    "mc = MarkerCluster()\n",
    "for idx, row in roberies.iterrows():\n",
    "    mc.add_child(Marker([row['Lat'], row['Long']]))\n",
    "fmap.add_child(mc)"
   ]
  },
  {
   "cell_type": "code",
   "execution_count": null,
   "metadata": {},
   "outputs": [],
   "source": [
    "def set_color(val):\n",
    "    if val < 12:\n",
    "        return \"forestgreen\"\n",
    "    else:\n",
    "        return \"darkred\""
   ]
  },
  {
   "cell_type": "code",
   "execution_count": null,
   "metadata": {},
   "outputs": [],
   "source": [
    "fmap = folium.Map(location=[42.32, -71.0589], tiles=\"cartodbpositron\", zoom_start=13)\n",
    "for ix, row in roberies.iterrows():\n",
    "    Circle(location=[row['Lat'], row['Long']], radius=20, color=set_color(row['HOUR'])).add_to(fmap)\n",
    "fmap"
   ]
  },
  {
   "cell_type": "code",
   "execution_count": null,
   "metadata": {},
   "outputs": [],
   "source": [
    "fmap = folium.Map(location=[42.32, -71.0589], tiles=\"cartodbpositron\", zoom_start=13)\n",
    "HeatMap(data=crimes[['Lat', 'Long']], radius=10).add_to(fmap)\n",
    "fmap"
   ]
  },
  {
   "cell_type": "code",
   "execution_count": null,
   "metadata": {},
   "outputs": [],
   "source": [
    "districts = gpd.read_file(\"data/Police_Districts/Police_Districts/Police_Districts.shp\")\n",
    "districts = districts[[\"DISTRICT\", \"geometry\"]].set_index(\"DISTRICT\")\n",
    "districts.head()"
   ]
  },
  {
   "cell_type": "code",
   "execution_count": null,
   "metadata": {},
   "outputs": [],
   "source": [
    "crimes.DISTRICT.value_counts()"
   ]
  },
  {
   "cell_type": "code",
   "execution_count": null,
   "metadata": {},
   "outputs": [],
   "source": [
    "fmap = folium.Map(location=[42.32, -71.0589], tiles=\"cartodbpositron\", zoom_start=11)\n",
    "fmap.add_child(\n",
    "    Choropleth(\n",
    "        geo_data=districts.__geo_interface__,\n",
    "        data = crimes.DISTRICT.value_counts(),\n",
    "        key_on=\"feature.id\",\n",
    "        ledgend_name=\"Places where they did that crime\"\n",
    "    \n",
    "    )\n",
    ")"
   ]
  },
  {
   "attachments": {},
   "cell_type": "markdown",
   "metadata": {},
   "source": [
    "# Japan Earthquakes"
   ]
  },
  {
   "cell_type": "code",
   "execution_count": null,
   "metadata": {},
   "outputs": [],
   "source": [
    "plates = gpd.read_file(\"data/Plate_Boundaries/Plate_Boundaries/Plate_Boundaries.shp\")\n",
    "plates.head()"
   ]
  },
  {
   "cell_type": "code",
   "execution_count": null,
   "metadata": {},
   "outputs": [],
   "source": [
    "earthquakes = pd.read_csv(\"data/earthquakes1970-2014.csv\")\n",
    "earthquakes.head()"
   ]
  },
  {
   "cell_type": "code",
   "execution_count": null,
   "metadata": {},
   "outputs": [],
   "source": [
    "plates[\"coordinates\"] = plates.apply(lambda x: [(b, a) for (a, b) in list(x.geometry.coords)], axis=\"columns\")"
   ]
  },
  {
   "cell_type": "code",
   "execution_count": null,
   "metadata": {},
   "outputs": [],
   "source": [
    "m = folium.Map(location=[35, 136], titles=\"cartodbpositron\", zoom_start=5)\n",
    "for i in range(len(plates)):\n",
    "    m.add_child(folium.PolyLine(locations=plates.coordinates.iloc[i], color='black', weight=2))\n",
    "m.add_child(HeatMap(\n",
    "    data=earthquakes[[\"Latitude\", \"Longitude\"]], radius=10\n",
    "))"
   ]
  },
  {
   "cell_type": "code",
   "execution_count": null,
   "metadata": {},
   "outputs": [],
   "source": [
    "def set_color(val):\n",
    "    if val < 50:\n",
    "        return 'forestgreen'\n",
    "    elif val < 100:\n",
    "        return 'darkorange'\n",
    "    else:\n",
    "        return 'darkred'"
   ]
  },
  {
   "cell_type": "code",
   "execution_count": null,
   "metadata": {},
   "outputs": [],
   "source": [
    "m = folium.Map(location=[35, 136], tiles=\"cartodbpositron\", zoom_start=5)\n",
    "for i in range(len(plates)):\n",
    "    m.add_child(folium.PolyLine(locations=plates.coordinates.iloc[i], color='black', weight=2))\n",
    "for i in range(len(earthquakes)):\n",
    "    m.add_child(folium.Circle(location=[earthquakes.iloc[i][\"Latitude\"], earthquakes.iloc[i][\"Longitude\"]], radius=2000, color=set_color(earthquakes.iloc[i][\"Depth\"])))"
   ]
  },
  {
   "cell_type": "code",
   "execution_count": null,
   "metadata": {},
   "outputs": [],
   "source": [
    "m"
   ]
  },
  {
   "cell_type": "code",
   "execution_count": null,
   "metadata": {},
   "outputs": [],
   "source": [
    "prefectures = gpd.read_file(\"data/japan-prefecture-boundaries/japan-prefecture-boundaries/japan-prefecture-boundaries.shp\")\n",
    "prefectures.set_index(\"prefecture\", inplace=True)\n",
    "prefectures.head()"
   ]
  },
  {
   "cell_type": "code",
   "execution_count": null,
   "metadata": {},
   "outputs": [],
   "source": [
    "population = pd.read_csv(\"data/japan-prefecture-population.csv\")\n",
    "population.set_index(\"prefecture\", inplace=True)\n",
    "population.head()"
   ]
  },
  {
   "cell_type": "code",
   "execution_count": null,
   "metadata": {},
   "outputs": [],
   "source": [
    "area_sqkm = pd.Series(prefectures.geometry.to_crs(epsg=32654).area / 10**6, name=\"area_sqkm\")\n",
    "stats = population.join(area_sqkm)\n",
    "stats[\"density\"] = stats[\"population\"] / stats[\"area_sqkm\"]\n",
    "stats.head()"
   ]
  },
  {
   "cell_type": "code",
   "execution_count": null,
   "metadata": {},
   "outputs": [],
   "source": [
    "m = folium.Map(location=[35, 136], tiles=\"cartodbpositron\", zoom_start=5)"
   ]
  },
  {
   "cell_type": "code",
   "execution_count": null,
   "metadata": {},
   "outputs": [],
   "source": [
    "def set_color(value):\n",
    "    if value > 6.5:\n",
    "        return \"darkred\"\n",
    "    else:\n",
    "        return \"forestgreen\""
   ]
  },
  {
   "cell_type": "code",
   "execution_count": null,
   "metadata": {},
   "outputs": [],
   "source": [
    "m.add_child(Choropleth(\n",
    "    geo_data=prefectures.geometry.__geo_interface__,\n",
    "    data=stats[\"density\"],\n",
    "    key_on=\"feature.id\"\n",
    "))\n",
    "for i in range(len(earthquakes)):\n",
    "    m.add_child(folium.Circle(location=[earthquakes.iloc[i][\"Latitude\"], earthquakes.iloc[i][\"Longitude\"]], radius=earthquakes.iloc[i][\"Magnitude\"]**5.5, color=set_color(earthquakes.iloc[i][\"Magnitude\"])))"
   ]
  },
  {
   "cell_type": "code",
   "execution_count": null,
   "metadata": {},
   "outputs": [],
   "source": [
    "m"
   ]
  }
 ],
 "metadata": {
  "kernelspec": {
   "display_name": ".venv",
   "language": "python",
   "name": "python3"
  },
  "language_info": {
   "codemirror_mode": {
    "name": "ipython",
    "version": 3
   },
   "file_extension": ".py",
   "mimetype": "text/x-python",
   "name": "python",
   "nbconvert_exporter": "python",
   "pygments_lexer": "ipython3",
   "version": "3.11.1"
  },
  "orig_nbformat": 4,
  "vscode": {
   "interpreter": {
    "hash": "00cff41179f68b6b4d94cadf93197b30bbb439180df90aef30369d614eac3fba"
   }
  }
 },
 "nbformat": 4,
 "nbformat_minor": 2
}
